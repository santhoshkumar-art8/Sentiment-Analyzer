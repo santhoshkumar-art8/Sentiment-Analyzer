{
 "cells": [
  {
   "cell_type": "code",
   "execution_count": null,
   "id": "6fc74776",
   "metadata": {},
   "outputs": [],
   "source": [
    "sentence=input(\"Enter the Text:\")\n",
    "import nltk\n",
    "nltk.download('vader_lexicon')\n",
    "from nltk.sentiment.vader import SentimentIntensityAnalyzer\n",
    "sid=SentimentIntensityAnalyzer()\n",
    "\n",
    "score=sid.polarity_scores(sentence)\n",
    "\n",
    "value=score.values()\n",
    "\n",
    "values_list=list(value)\n",
    "print(\"\")\n",
    "print(\"\")\n",
    "\n",
    "if(values_list[0]>0):\n",
    "    print(\"It is a negative word\")\n",
    "elif(values_list[1]>0):\n",
    "    print(\"It is neutral words\")\n",
    "elif(values_list[1]>0 and values_list[2]>0):\n",
    "    print(\"It is common word\")\n",
    "elif(values_word[2]>0):\n",
    "    print(\"It is positive words\")"
   ]
  },
  {
   "cell_type": "code",
   "execution_count": null,
   "id": "27547c7e",
   "metadata": {},
   "outputs": [],
   "source": []
  }
 ],
 "metadata": {
  "kernelspec": {
   "display_name": "Python 3",
   "language": "python",
   "name": "python3"
  },
  "language_info": {
   "codemirror_mode": {
    "name": "ipython",
    "version": 3
   },
   "file_extension": ".py",
   "mimetype": "text/x-python",
   "name": "python",
   "nbconvert_exporter": "python",
   "pygments_lexer": "ipython3",
   "version": "3.8.8"
  }
 },
 "nbformat": 4,
 "nbformat_minor": 5
}
